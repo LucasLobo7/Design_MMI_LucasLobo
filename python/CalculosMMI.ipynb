{
 "cells": [
  {
   "cell_type": "code",
   "execution_count": 1,
   "metadata": {},
   "outputs": [],
   "source": [
    "import numpy as np\n",
    "import matplotlib.pyplot as plt\n"
   ]
  },
  {
   "cell_type": "code",
   "execution_count": 2,
   "metadata": {},
   "outputs": [],
   "source": [
    "nf = 3.476\n",
    "ns = 1.444\n",
    "espessuraTotal = 10e-6\n",
    "lmbd = 1550e-9\n",
    "c0 = 299792458\n",
    "k0 = 2*np.pi/lmbd\n",
    "numerodemodos = 2\n",
    "k = 4"
   ]
  },
  {
   "cell_type": "code",
   "execution_count": 4,
   "metadata": {},
   "outputs": [
    {
     "name": "stdout",
     "output_type": "stream",
     "text": [
      "\n",
      "We = 1.0156040531990454e-05\n",
      "\n",
      "TE0: Neff aproximado = 3.4752\n",
      "TE1: Neff aproximado = 3.4726\n",
      "1250.2124726249056\n",
      "L pi = 0.00030841511714676726\n"
     ]
    }
   ],
   "source": [
    "#MODO TE\n",
    "sigma = 0\n",
    "We = espessuraTotal + (lmbd/np.pi)*((ns/nf)**(2*sigma))*(nf**2 - ns**2)**(-1/2)\n",
    "print()\n",
    "print('We = {}'.format(We))\n",
    "print()\n",
    "Lpi = 4*nf*(We**2)/(3*lmbd)\n",
    "neff = [0,0]\n",
    "for n in range(numerodemodos):\n",
    "    neff[n] = nf - ((n+1)**2*np.pi*lmbd)/(We**2*4*nf*k0)\n",
    "    kc = (n+1)*np.pi/We\n",
    "    print('TE{}: Neff aproximado = {}'.format(n,round(neff[n],4)))\n",
    "print(np.pi/(neff[0]-neff[1]))\n",
    "print('L pi = {0}'.format(Lpi))\n"
   ]
  },
  {
   "cell_type": "code",
   "execution_count": 5,
   "metadata": {},
   "outputs": [
    {
     "name": "stdout",
     "output_type": "stream",
     "text": [
      "Primeira saída unica em:0.0009252453514403018\n",
      "Primeira N saidas:0.00023131133786007544\n"
     ]
    }
   ],
   "source": [
    "# MMI GERAL\n",
    "# Entrada X Saidas: N X N\n",
    "# Tipo de Exitação: TODAS\n",
    "# Localização da entrada: Qualquer\n",
    "\n",
    "N = 4\n",
    "\n",
    "saidaunica = 3*Lpi\n",
    "Nsaidas = 3*Lpi/N\n",
    "print('Primeira saída unica em:{}'.format(saidaunica))\n",
    "print('Primeira N saidas:{}'.format(Nsaidas))"
   ]
  },
  {
   "cell_type": "code",
   "execution_count": 6,
   "metadata": {},
   "outputs": [
    {
     "name": "stdout",
     "output_type": "stream",
     "text": [
      "Primeira saída unica em:0.00030841511714676726\n",
      "Primeira N saidas:7.710377928669181e-05\n"
     ]
    }
   ],
   "source": [
    "# MMI Paired\n",
    "# Entrada X Saidas: 2 X N\n",
    "# Tipo de Exitação: Apenas modos: 0,1,3,4,6,7...\n",
    "# Localização da entrada: +-Espessura/3\n",
    "\n",
    "N = 4\n",
    "\n",
    "saidaunica = Lpi\n",
    "Nsaidas = Lpi/N\n",
    "print('Primeira saída unica em:{}'.format(saidaunica))\n",
    "print('Primeira N saidas:{}'.format(Nsaidas))"
   ]
  },
  {
   "cell_type": "code",
   "execution_count": 7,
   "metadata": {},
   "outputs": [
    {
     "name": "stdout",
     "output_type": "stream",
     "text": [
      "Primeira saída unica em:0.00023131133786007544\n",
      "Primeira N saidas:0.00011565566893003772\n"
     ]
    }
   ],
   "source": [
    "# MMI Simetrico\n",
    "# Entrada X Saidas: 1 X N\n",
    "# Tipo de Exitação: Apenas modos pares + 0\n",
    "# Localização da entrada: no centro do guia\n",
    "\n",
    "N = 2\n",
    "\n",
    "saidaunica = 3*Lpi/4\n",
    "Nsaidas = 3*Lpi/(4*N)\n",
    "print('Primeira saída unica em:{}'.format(saidaunica))\n",
    "print('Primeira N saidas:{}'.format(Nsaidas))"
   ]
  },
  {
   "cell_type": "code",
   "execution_count": 9,
   "metadata": {},
   "outputs": [
    {
     "name": "stdout",
     "output_type": "stream",
     "text": [
      "A espessura ideal dos tapper é de 1.5049619251211154e-06m\n"
     ]
    }
   ],
   "source": [
    "Wtapper = (1/((2*N)**(0.25)))*np.sqrt(lmbd*We/neff[0])\n",
    "print('A espessura ideal dos tapper é de {}m'.format(Wtapper))"
   ]
  },
  {
   "cell_type": "code",
   "execution_count": null,
   "metadata": {},
   "outputs": [],
   "source": []
  }
 ],
 "metadata": {
  "interpreter": {
   "hash": "112989f40982219f9c2133127490be09f86560db102a13a350eb86b01002b443"
  },
  "kernelspec": {
   "display_name": "Python 3.9.12 ('base')",
   "language": "python",
   "name": "python3"
  },
  "language_info": {
   "codemirror_mode": {
    "name": "ipython",
    "version": 3
   },
   "file_extension": ".py",
   "mimetype": "text/x-python",
   "name": "python",
   "nbconvert_exporter": "python",
   "pygments_lexer": "ipython3",
   "version": "3.9.12"
  },
  "orig_nbformat": 4
 },
 "nbformat": 4,
 "nbformat_minor": 2
}
