{
 "cells": [
  {
   "cell_type": "code",
   "execution_count": 1,
   "metadata": {},
   "outputs": [],
   "source": [
    "import numpy as np\n",
    "import matplotlib.pyplot as plt\n",
    "import warnings\n",
    "warnings.filterwarnings('ignore')"
   ]
  },
  {
   "cell_type": "code",
   "execution_count": 2,
   "metadata": {},
   "outputs": [],
   "source": [
    "nf = 3.476\n",
    "ns = 1.444\n",
    "espessuraTotal = 5e-6\n",
    "lmbd = 1550e-9\n",
    "c0 = 299792458\n",
    "k0 = 2*np.pi/lmbd\n",
    "numerodemodos = 2"
   ]
  },
  {
   "cell_type": "code",
   "execution_count": 3,
   "metadata": {},
   "outputs": [
    {
     "name": "stdout",
     "output_type": "stream",
     "text": [
      "We = 5.156040531990453e-06\n",
      "\n",
      "TE0: Neff aproximado = 3.4728\n",
      "TE1: Neff aproximado = 3.463\n",
      "\n",
      "L pi = 7.949127293860531e-05\n"
     ]
    }
   ],
   "source": [
    "#MODO TE\n",
    "sigma = 0\n",
    "We = espessuraTotal + (lmbd/np.pi)*((ns/nf)**(2*sigma))*(nf**2 - ns**2)**(-1/2)\n",
    "print('We = {}'.format(We))\n",
    "print()\n",
    "Lpi = 4*nf*We*We/(3*lmbd)\n",
    "for n in range(numerodemodos):\n",
    "    neff = nf - ((n+1)**2*np.pi*lmbd)/(We**2*4*nf*k0)\n",
    "    kc = (n+1)*np.pi/We\n",
    "    print('TE{}: Neff aproximado = {}'.format(n,round(neff,4)))\n",
    "print()\n",
    "print('L pi = {0}'.format(Lpi))"
   ]
  },
  {
   "cell_type": "code",
   "execution_count": 4,
   "metadata": {},
   "outputs": [
    {
     "name": "stdout",
     "output_type": "stream",
     "text": [
      "Primeira saída unica em:0.00023847381881581594\n",
      "Primeira N saidas:0.00011923690940790797\n"
     ]
    }
   ],
   "source": [
    "# MMI GERAL\n",
    "# Entrada X Saidas: N X N\n",
    "# Tipo de Exitação: TODAS\n",
    "# Localização da entrada: Qualquer\n",
    "\n",
    "N = 2\n",
    "\n",
    "saidaunica = 3*Lpi\n",
    "Nsaidas = 3*Lpi/N\n",
    "print('Primeira saída unica em:{}'.format(saidaunica))\n",
    "print('Primeira N saidas:{}'.format(Nsaidas))"
   ]
  },
  {
   "cell_type": "code",
   "execution_count": 5,
   "metadata": {},
   "outputs": [
    {
     "name": "stdout",
     "output_type": "stream",
     "text": [
      "Primeira saída unica em:7.949127293860531e-05\n",
      "Primeira N saidas:1.9872818234651328e-05\n"
     ]
    }
   ],
   "source": [
    "# MMI Paired\n",
    "# Entrada X Saidas: 2 X N\n",
    "# Tipo de Exitação: Apenas modos: 0,1,3,4,6,7...\n",
    "# Localização da entrada: +-Espessura/3\n",
    "\n",
    "N = 4\n",
    "\n",
    "saidaunica = Lpi\n",
    "Nsaidas = Lpi/N\n",
    "print('Primeira saída unica em:{}'.format(saidaunica))\n",
    "print('Primeira N saidas:{}'.format(Nsaidas))"
   ]
  },
  {
   "cell_type": "code",
   "execution_count": 6,
   "metadata": {},
   "outputs": [
    {
     "name": "stdout",
     "output_type": "stream",
     "text": [
      "Primeira saída unica em:5.9618454703953984e-05\n",
      "Primeira N saidas:1.9872818234651328e-05\n"
     ]
    }
   ],
   "source": [
    "# MMI Simetrico\n",
    "# Entrada X Saidas: 1 X N\n",
    "# Tipo de Exitação: Apenas modos pares + 0\n",
    "# Localização da entrada: no centro do guia\n",
    "\n",
    "N = 3\n",
    "\n",
    "saidaunica = 3*Lpi/4\n",
    "Nsaidas = 3*Lpi/(4*N)\n",
    "print('Primeira saída unica em:{}'.format(saidaunica))\n",
    "print('Primeira N saidas:{}'.format(Nsaidas))"
   ]
  }
 ],
 "metadata": {
  "interpreter": {
   "hash": "ad2bdc8ecc057115af97d19610ffacc2b4e99fae6737bb82f5d7fb13d2f2c186"
  },
  "kernelspec": {
   "display_name": "Python 3.8.12 ('base')",
   "language": "python",
   "name": "python3"
  },
  "language_info": {
   "codemirror_mode": {
    "name": "ipython",
    "version": 3
   },
   "file_extension": ".py",
   "mimetype": "text/x-python",
   "name": "python",
   "nbconvert_exporter": "python",
   "pygments_lexer": "ipython3",
   "version": "3.8.12"
  },
  "orig_nbformat": 4
 },
 "nbformat": 4,
 "nbformat_minor": 2
}
