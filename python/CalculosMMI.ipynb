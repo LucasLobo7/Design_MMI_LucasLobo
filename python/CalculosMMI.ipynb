{
 "cells": [
  {
   "cell_type": "code",
   "execution_count": 8,
   "metadata": {},
   "outputs": [],
   "source": [
    "import numpy as np\n",
    "import matplotlib.pyplot as plt\n"
   ]
  },
  {
   "cell_type": "code",
   "execution_count": 9,
   "metadata": {},
   "outputs": [],
   "source": [
    "nf = 3.476\n",
    "ns = 1.444\n",
    "espessuraTotal = 9e-6\n",
    "lmbd = 1550e-9\n",
    "c0 = 299792458\n",
    "k0 = 2*np.pi/lmbd\n",
    "numerodemodos = 1"
   ]
  },
  {
   "cell_type": "code",
   "execution_count": 10,
   "metadata": {},
   "outputs": [
    {
     "name": "stdout",
     "output_type": "stream",
     "text": [
      "\n",
      "We = 9.156040531990453e-06\n",
      "\n",
      "TE0: Neff aproximado = 3.475\n",
      "\n",
      "L pi = 0.000188002438648206\n"
     ]
    }
   ],
   "source": [
    "#MODO TE\n",
    "sigma = 0\n",
    "We = espessuraTotal + (lmbd/np.pi)*((ns/nf)**(2*sigma))*(nf**2 - ns**2)**(-1/2)\n",
    "print()\n",
    "print('We = {}'.format(We))\n",
    "print()\n",
    "Lpi = nf*(We**2)/(lmbd)\n",
    "for n in range(numerodemodos):\n",
    "    neff = nf - ((n+1)**2*np.pi*lmbd)/(We**2*4*nf*k0)\n",
    "    kc = (n+1)*np.pi/We\n",
    "    print('TE{}: Neff aproximado = {}'.format(n,round(neff,4)))\n",
    "print()\n",
    "print('L pi = {0}'.format(Lpi))\n",
    "lpi2 = 4*nf*We*We/(3*lmbd)"
   ]
  },
  {
   "cell_type": "code",
   "execution_count": 11,
   "metadata": {},
   "outputs": [
    {
     "name": "stdout",
     "output_type": "stream",
     "text": [
      "Primeira saída unica em:0.000564007315944618\n",
      "Primeira N saidas:0.000282003657972309\n"
     ]
    }
   ],
   "source": [
    "# MMI GERAL\n",
    "# Entrada X Saidas: N X N\n",
    "# Tipo de Exitação: TODAS\n",
    "# Localização da entrada: Qualquer\n",
    "\n",
    "N = 2\n",
    "\n",
    "saidaunica = 3*Lpi\n",
    "Nsaidas = 3*Lpi/N\n",
    "print('Primeira saída unica em:{}'.format(saidaunica))\n",
    "print('Primeira N saidas:{}'.format(Nsaidas))"
   ]
  },
  {
   "cell_type": "code",
   "execution_count": 12,
   "metadata": {},
   "outputs": [
    {
     "name": "stdout",
     "output_type": "stream",
     "text": [
      "Primeira saída unica em:0.000188002438648206\n",
      "Primeira N saidas:4.70006096620515e-05\n"
     ]
    }
   ],
   "source": [
    "# MMI Paired\n",
    "# Entrada X Saidas: 2 X N\n",
    "# Tipo de Exitação: Apenas modos: 0,1,3,4,6,7...\n",
    "# Localização da entrada: +-Espessura/3\n",
    "\n",
    "N = 4\n",
    "\n",
    "saidaunica = Lpi\n",
    "Nsaidas = Lpi/N\n",
    "print('Primeira saída unica em:{}'.format(saidaunica))\n",
    "print('Primeira N saidas:{}'.format(Nsaidas))"
   ]
  },
  {
   "cell_type": "code",
   "execution_count": 13,
   "metadata": {},
   "outputs": [
    {
     "name": "stdout",
     "output_type": "stream",
     "text": [
      "Primeira saída unica em:0.0001410018289861545\n",
      "Primeira N saidas:7.050091449307724e-05\n"
     ]
    }
   ],
   "source": [
    "# MMI Simetrico\n",
    "# Entrada X Saidas: 1 X N\n",
    "# Tipo de Exitação: Apenas modos pares + 0\n",
    "# Localização da entrada: no centro do guia\n",
    "\n",
    "N = 2\n",
    "\n",
    "saidaunica = 3*Lpi/4\n",
    "Nsaidas = 3*Lpi/(4*N)\n",
    "print('Primeira saída unica em:{}'.format(saidaunica))\n",
    "print('Primeira N saidas:{}'.format(Nsaidas))"
   ]
  },
  {
   "cell_type": "code",
   "execution_count": 14,
   "metadata": {},
   "outputs": [
    {
     "name": "stdout",
     "output_type": "stream",
     "text": [
      "A espessura ideal dos tapper é de 1.4289900685014037e-06m\n"
     ]
    }
   ],
   "source": [
    "Wtapper = (1/((2*N)**(0.25)))*np.sqrt(lmbd*We/neff)\n",
    "print('A espessura ideal dos tapper é de {}m'.format(Wtapper))"
   ]
  },
  {
   "cell_type": "code",
   "execution_count": null,
   "metadata": {},
   "outputs": [],
   "source": []
  }
 ],
 "metadata": {
  "interpreter": {
   "hash": "112989f40982219f9c2133127490be09f86560db102a13a350eb86b01002b443"
  },
  "kernelspec": {
   "display_name": "Python 3.9.12 ('base')",
   "language": "python",
   "name": "python3"
  },
  "language_info": {
   "codemirror_mode": {
    "name": "ipython",
    "version": 3
   },
   "file_extension": ".py",
   "mimetype": "text/x-python",
   "name": "python",
   "nbconvert_exporter": "python",
   "pygments_lexer": "ipython3",
   "version": "3.9.12"
  },
  "orig_nbformat": 4
 },
 "nbformat": 4,
 "nbformat_minor": 2
}
