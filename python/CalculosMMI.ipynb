{
 "cells": [
  {
   "cell_type": "code",
   "execution_count": 8,
   "metadata": {},
   "outputs": [],
   "source": [
    "import numpy as np\n",
    "import matplotlib.pyplot as plt\n"
   ]
  },
  {
   "cell_type": "code",
   "execution_count": 9,
   "metadata": {},
   "outputs": [],
   "source": [
    "nf = 3.476\n",
    "ns = 1.444\n",
    "espessuraTotal = 10e-6\n",
    "lmbd = 1550e-9\n",
    "c0 = 299792458\n",
    "k0 = 2*np.pi/lmbd\n",
    "numerodemodos = 2\n",
    "k = 4"
   ]
  },
  {
   "cell_type": "code",
   "execution_count": 10,
   "metadata": {},
   "outputs": [
    {
     "name": "stdout",
     "output_type": "stream",
     "text": [
      "3.3333333333333333e-06\n",
      "1.6666666666666662e-06\n",
      "-1.6666666666666662e-06\n",
      "-3.3333333333333333e-06\n",
      "\n",
      "3.3333333333333337e-06\n",
      "1.6666666666666667e-06\n",
      "-1.6666666666666667e-06\n",
      "-3.3333333333333337e-06\n"
     ]
    }
   ],
   "source": [
    "print(espessuraTotal - (espessuraTotal/k)*(1- 1/3) - 5e-6)\n",
    "print(espessuraTotal - (espessuraTotal/k)*(2- 2/3) -5e-6)\n",
    "print(espessuraTotal - (espessuraTotal/k)*(3- 1/3) -5e-6)\n",
    "print(espessuraTotal - (espessuraTotal/k)*(4- 2/3) -5e-6)\n",
    "\n",
    "print()\n",
    "print(espessuraTotal/2 - (espessuraTotal/k) + espessuraTotal/(3*k) )\n",
    "print(espessuraTotal/2 - (espessuraTotal/k) - espessuraTotal/(3*k) )\n",
    "\n",
    "print(espessuraTotal/2 - (espessuraTotal/k) + espessuraTotal/(3*k) - 2*espessuraTotal/k )\n",
    "print(espessuraTotal/2 - (espessuraTotal/k) - espessuraTotal/(3*k) -2*espessuraTotal/k )\n"
   ]
  },
  {
   "cell_type": "code",
   "execution_count": 11,
   "metadata": {},
   "outputs": [
    {
     "name": "stdout",
     "output_type": "stream",
     "text": [
      "\n",
      "We = 1.0156040531990454e-05\n",
      "\n",
      "TE0: Neff aproximado = 3.4752\n",
      "TE1: Neff aproximado = 3.4726\n",
      "1250.2124726249056\n",
      "L pi = 0.00030841511714676726\n"
     ]
    }
   ],
   "source": [
    "#MODO TE\n",
    "sigma = 0\n",
    "We = espessuraTotal + (lmbd/np.pi)*((ns/nf)**(2*sigma))*(nf**2 - ns**2)**(-1/2)\n",
    "print()\n",
    "print('We = {}'.format(We))\n",
    "print()\n",
    "Lpi = 4*nf*(We**2)/(3*lmbd)\n",
    "neff = [0,0]\n",
    "for n in range(numerodemodos):\n",
    "    neff[n] = nf - ((n+1)**2*np.pi*lmbd)/(We**2*4*nf*k0)\n",
    "    kc = (n+1)*np.pi/We\n",
    "    print('TE{}: Neff aproximado = {}'.format(n,round(neff[n],4)))\n",
    "print(np.pi/(neff[0]-neff[1]))\n",
    "print('L pi = {0}'.format(Lpi))\n"
   ]
  },
  {
   "cell_type": "code",
   "execution_count": 12,
   "metadata": {},
   "outputs": [
    {
     "name": "stdout",
     "output_type": "stream",
     "text": [
      "Primeira saída unica em:0.0009252453514403018\n",
      "Primeira N saidas:0.00023131133786007544\n"
     ]
    }
   ],
   "source": [
    "# MMI GERAL\n",
    "# Entrada X Saidas: N X N\n",
    "# Tipo de Exitação: TODAS\n",
    "# Localização da entrada: Qualquer\n",
    "\n",
    "N = 4\n",
    "\n",
    "saidaunica = 3*Lpi\n",
    "Nsaidas = 3*Lpi/N\n",
    "print('Primeira saída unica em:{}'.format(saidaunica))\n",
    "print('Primeira N saidas:{}'.format(Nsaidas))"
   ]
  },
  {
   "cell_type": "code",
   "execution_count": 110,
   "metadata": {},
   "outputs": [
    {
     "name": "stdout",
     "output_type": "stream",
     "text": [
      "Primeira saída unica em:0.0001491787007266591\n",
      "Primeira N saidas:3.7294675181664775e-05\n"
     ]
    }
   ],
   "source": [
    "# MMI Paired\n",
    "# Entrada X Saidas: 2 X N\n",
    "# Tipo de Exitação: Apenas modos: 0,1,3,4,6,7...\n",
    "# Localização da entrada: +-Espessura/3\n",
    "\n",
    "N = 4\n",
    "\n",
    "saidaunica = Lpi\n",
    "Nsaidas = Lpi/N\n",
    "print('Primeira saída unica em:{}'.format(saidaunica))\n",
    "print('Primeira N saidas:{}'.format(Nsaidas))"
   ]
  },
  {
   "cell_type": "code",
   "execution_count": 111,
   "metadata": {},
   "outputs": [
    {
     "name": "stdout",
     "output_type": "stream",
     "text": [
      "Primeira saída unica em:0.00011188402554499432\n",
      "Primeira N saidas:5.594201277249716e-05\n"
     ]
    }
   ],
   "source": [
    "# MMI Simetrico\n",
    "# Entrada X Saidas: 1 X N\n",
    "# Tipo de Exitação: Apenas modos pares + 0\n",
    "# Localização da entrada: no centro do guia\n",
    "\n",
    "N = 2\n",
    "\n",
    "saidaunica = 3*Lpi/4\n",
    "Nsaidas = 3*Lpi/(4*N)\n",
    "print('Primeira saída unica em:{}'.format(saidaunica))\n",
    "print('Primeira N saidas:{}'.format(Nsaidas))"
   ]
  },
  {
   "cell_type": "code",
   "execution_count": 112,
   "metadata": {},
   "outputs": [
    {
     "name": "stdout",
     "output_type": "stream",
     "text": [
      "A espessura ideal dos tapper é de 1.3487510799543762e-06m\n"
     ]
    }
   ],
   "source": [
    "Wtapper = (1/((2*N)**(0.25)))*np.sqrt(lmbd*We/neff)\n",
    "print('A espessura ideal dos tapper é de {}m'.format(Wtapper))"
   ]
  },
  {
   "cell_type": "code",
   "execution_count": null,
   "metadata": {},
   "outputs": [],
   "source": []
  }
 ],
 "metadata": {
  "interpreter": {
   "hash": "ad2bdc8ecc057115af97d19610ffacc2b4e99fae6737bb82f5d7fb13d2f2c186"
  },
  "kernelspec": {
   "display_name": "Python 3.8.12 ('base')",
   "language": "python",
   "name": "python3"
  },
  "language_info": {
   "codemirror_mode": {
    "name": "ipython",
    "version": 3
   },
   "file_extension": ".py",
   "mimetype": "text/x-python",
   "name": "python",
   "nbconvert_exporter": "python",
   "pygments_lexer": "ipython3",
   "version": "3.8.12"
  },
  "orig_nbformat": 4
 },
 "nbformat": 4,
 "nbformat_minor": 2
}
