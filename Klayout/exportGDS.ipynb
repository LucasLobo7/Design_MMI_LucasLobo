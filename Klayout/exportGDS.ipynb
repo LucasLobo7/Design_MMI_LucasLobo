{
 "cells": [
  {
   "cell_type": "code",
   "execution_count": 1,
   "metadata": {},
   "outputs": [],
   "source": [
    "import os\n",
    "import imp\n",
    "import matplotlib.pyplot as plt\n",
    "import numpy as np\n",
    "import math\n",
    "import pandas as pd\n",
    "import sys\n",
    "import pickle\n",
    "#os.add_dll_directory('C:\\\\Program Files\\\\Lumerical\\\\v202\\\\api\\\\python\\\\')\n",
    "#lumapi = imp.load_source('lumapi','C:\\\\Program Files\\\\Lumerical\\\\v202\\\\api\\\\python\\\\lumapi.py') \n",
    "sys.path.append(\"/opt/lumerical/v221/api/python\") #Default linux lumapi path\n",
    "import lumapi\n",
    "sys.path.append(os.path.dirname('/media/lucas/datam01/LucasLobo/Design_MMI_LucasLobo/klayout')) #Current directory"
   ]
  },
  {
   "cell_type": "code",
   "execution_count": 11,
   "metadata": {},
   "outputs": [],
   "source": [
    "mode = lumapi.MODE(filename= 'MMI2XN.lms')"
   ]
  },
  {
   "cell_type": "code",
   "execution_count": 87,
   "metadata": {},
   "outputs": [],
   "source": [
    "f=mode.gdsopen('MMIGDS.gds')\n",
    "mode.gdsbegincell(f,'MMI')\n",
    "#MMI\n",
    "mode.gdsaddrect(f,1,90.5e-6,0,181e-6,10e-6) \n",
    "#GUIA ENTRADA\n",
    "mode.gdsaddrect(f,1,-7e-6,4.24e-6,2e-6,0.45e-6)\n",
    "mode.gdsaddrect(f,1,-7e-6,-4.24e-6,2e-6,0.45e-6)\n",
    "#GUIA SAIDA EXTERNA\n",
    "mode.gdsaddrect(f,1,188e-6,4.24e-6,2e-6,0.45e-6)\n",
    "mode.gdsaddrect(f,1,188e-6,-4.24e-6,2e-6,0.45e-6)\n",
    "#GUIA SAIDA INTERNA\n",
    "mode.gdsaddrect(f,1,188e-6,0.76e-6,2e-6,0.45e-6)\n",
    "mode.gdsaddrect(f,1,188e-6,-0.76e-6,2e-6,0.45e-6)\n",
    "#TAPPER ENTRADA\n",
    "mode.gdsaddpoly(f,1,np.array([[0,(0.75+4.24)*1e-6],[0,(-0.75+4.24)*1e-6],[-6e-6,(-0.225+4.24)*1e-6],[-6e-6,(0.225+4.24)*1e-6]]))\n",
    "mode.gdsaddpoly(f,1,np.array([[0,(0.75-4.24)*1e-6],[0,(-0.75-4.24)*1e-6],[-6e-6,(-0.225-4.24)*1e-6],[-6e-6,(0.225-4.24)*1e-6]]))\n",
    "#TAPPER SAIDA EXTERNA\n",
    "mode.gdsaddpoly(f,1,np.array([[181e-6,(0.75+4.24)*1e-6],[181e-6,(-0.75+4.24)*1e-6],[187e-6,(-0.225+4.24)*1e-6],[187e-6,(0.225+4.24)*1e-6]]))\n",
    "mode.gdsaddpoly(f,1,np.array([[181e-6,(0.75-4.24)*1e-6],[181e-6,(-0.75-4.24)*1e-6],[187e-6,(-0.225-4.24)*1e-6],[187e-6,(0.225-4.24)*1e-6]]))\n",
    "#TAPPER SAIDA INTERNA\n",
    "mode.gdsaddpoly(f,1,np.array([[181e-6,(0.75+0.76)*1e-6],[181e-6,(-0.75+0.76)*1e-6],[187e-6,(-0.225+0.76)*1e-6],[187e-6,(0.225+0.76)*1e-6]]))\n",
    "mode.gdsaddpoly(f,1,np.array([[181e-6,(0.75-0.76)*1e-6],[181e-6,(-0.75-0.76)*1e-6],[187e-6,(-0.225-0.76)*1e-6],[187e-6,(0.225-0.76)*1e-6]]))\n",
    "\n",
    "mode.gdsendcell(f)\n",
    "mode.gdsclose(f)"
   ]
  },
  {
   "cell_type": "code",
   "execution_count": 76,
   "metadata": {},
   "outputs": [
    {
     "name": "stdout",
     "output_type": "stream",
     "text": [
      "[[0 4]\n",
      " [1 5]\n",
      " [1 8]]\n",
      "[[0 1]\n",
      " [2 3]\n",
      " [5 6]]\n"
     ]
    }
   ],
   "source": [
    "teste = [[1,2],[3,4],[0,0]]\n",
    "two = np.empty(np.shape(teste), dtype=object)\n",
    "two[0,:] = [0,4]\n",
    "two[1,:] = [1,5]\n",
    "two[2,:] = [1,8]\n",
    "print(two)\n",
    "cu =np.mat('0 1; 2 3; 4 5')\n",
    "teste = np.array([[0,1],[2,3],[5,6]])\n",
    "print(teste)"
   ]
  }
 ],
 "metadata": {
  "kernelspec": {
   "display_name": "Python 3.9.12 ('base')",
   "language": "python",
   "name": "python3"
  },
  "language_info": {
   "codemirror_mode": {
    "name": "ipython",
    "version": 3
   },
   "file_extension": ".py",
   "mimetype": "text/x-python",
   "name": "python",
   "nbconvert_exporter": "python",
   "pygments_lexer": "ipython3",
   "version": "3.9.12"
  },
  "orig_nbformat": 4,
  "vscode": {
   "interpreter": {
    "hash": "112989f40982219f9c2133127490be09f86560db102a13a350eb86b01002b443"
   }
  }
 },
 "nbformat": 4,
 "nbformat_minor": 2
}
